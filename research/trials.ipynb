{
 "cells": [
  {
   "cell_type": "code",
   "execution_count": 2,
   "id": "521c063a",
   "metadata": {},
   "outputs": [
    {
     "data": {
      "text/plain": [
       "'value'"
      ]
     },
     "execution_count": 2,
     "metadata": {},
     "output_type": "execute_result"
    }
   ],
   "source": [
    "d = {\"key\": \"value\", \"key1\" : \"value1\"}\n",
    "\n",
    "d['key']"
   ]
  },
  {
   "cell_type": "code",
   "execution_count": 5,
   "id": "941361ff",
   "metadata": {},
   "outputs": [],
   "source": [
    "from    box import ConfigBox\n",
    "\n",
    "d2 = {\"key\": \"value\", \"key1\" : \"value1\"}\n",
    "d2 = ConfigBox(d2)"
   ]
  },
  {
   "cell_type": "code",
   "execution_count": 6,
   "id": "082a04d6",
   "metadata": {},
   "outputs": [
    {
     "data": {
      "text/plain": [
       "'value'"
      ]
     },
     "execution_count": 6,
     "metadata": {},
     "output_type": "execute_result"
    }
   ],
   "source": [
    "d2.key"
   ]
  },
  {
   "cell_type": "code",
   "execution_count": 12,
   "id": "7fac4cb7",
   "metadata": {},
   "outputs": [],
   "source": [
    "def get_product(x:int, y:int):\n",
    "    return x*y"
   ]
  },
  {
   "cell_type": "code",
   "execution_count": 13,
   "id": "c6945bb3",
   "metadata": {},
   "outputs": [
    {
     "data": {
      "text/plain": [
       "6"
      ]
     },
     "execution_count": 13,
     "metadata": {},
     "output_type": "execute_result"
    }
   ],
   "source": [
    "get_product(x = 3, y = 2)"
   ]
  },
  {
   "cell_type": "code",
   "execution_count": 14,
   "id": "6e9017ef",
   "metadata": {},
   "outputs": [
    {
     "data": {
      "text/plain": [
       "'3333'"
      ]
     },
     "execution_count": 14,
     "metadata": {},
     "output_type": "execute_result"
    }
   ],
   "source": [
    "get_product(x=2, y = \"33\")"
   ]
  },
  {
   "cell_type": "code",
   "execution_count": 15,
   "id": "ff6a0752",
   "metadata": {},
   "outputs": [],
   "source": [
    "from ensure import ensure_annotations"
   ]
  },
  {
   "cell_type": "code",
   "execution_count": 16,
   "id": "5423d10e",
   "metadata": {},
   "outputs": [],
   "source": [
    "@ensure_annotations\n",
    "def get_product(x:int, y:int):\n",
    "    return x*y"
   ]
  },
  {
   "cell_type": "code",
   "execution_count": 17,
   "id": "66c1c4aa",
   "metadata": {},
   "outputs": [
    {
     "data": {
      "text/plain": [
       "6"
      ]
     },
     "execution_count": 17,
     "metadata": {},
     "output_type": "execute_result"
    }
   ],
   "source": [
    "get_product(x = 3, y = 2)"
   ]
  },
  {
   "cell_type": "markdown",
   "id": "73c7ee27",
   "metadata": {},
   "source": [
    "### Download Data from gdrive"
   ]
  },
  {
   "cell_type": "code",
   "execution_count": 19,
   "id": "7ca45a50",
   "metadata": {},
   "outputs": [],
   "source": [
    "import gdown"
   ]
  },
  {
   "cell_type": "code",
   "execution_count": 20,
   "id": "d2368abc",
   "metadata": {},
   "outputs": [],
   "source": [
    "url = \"https://drive.google.com/file/d/1z0mreUtRmR-P-magILsDR3T7M6IkGXtY/view?usp=sharing\""
   ]
  },
  {
   "cell_type": "code",
   "execution_count": 21,
   "id": "9dd6dacb",
   "metadata": {},
   "outputs": [
    {
     "data": {
      "text/plain": [
       "str"
      ]
     },
     "execution_count": 21,
     "metadata": {},
     "output_type": "execute_result"
    }
   ],
   "source": [
    "type(url)"
   ]
  },
  {
   "cell_type": "code",
   "execution_count": 22,
   "id": "1c4cb4ed",
   "metadata": {},
   "outputs": [
    {
     "data": {
      "text/plain": [
       "'1z0mreUtRmR-P-magILsDR3T7M6IkGXtY'"
      ]
     },
     "execution_count": 22,
     "metadata": {},
     "output_type": "execute_result"
    }
   ],
   "source": [
    "file_id = url.split(\"/\")[-2]\n",
    "file_id"
   ]
  },
  {
   "cell_type": "code",
   "execution_count": 23,
   "id": "ef1ed645",
   "metadata": {},
   "outputs": [
    {
     "name": "stderr",
     "output_type": "stream",
     "text": [
      "Downloading...\n",
      "From (original): https://drive.google.com/uc?/export=download&id=1z0mreUtRmR-P-magILsDR3T7M6IkGXtY\n",
      "From (redirected): https://drive.google.com/uc?%2Fexport=download&id=1z0mreUtRmR-P-magILsDR3T7M6IkGXtY&confirm=t&uuid=397041ee-c204-4260-a7e6-1d38b235b641\n",
      "To: c:\\Users\\Shirlyne\\Documents\\End-to-End-Cancer-Classification-using-MLflow-DVC\\research\\Chest-CT-Scan-data.zip\n",
      "100%|██████████| 49.0M/49.0M [00:48<00:00, 1.02MB/s]\n"
     ]
    },
    {
     "data": {
      "text/plain": [
       "'Chest-CT-Scan-data.zip'"
      ]
     },
     "execution_count": 23,
     "metadata": {},
     "output_type": "execute_result"
    }
   ],
   "source": [
    "prefix = 'https://drive.google.com/uc?/export=download&id='\n",
    "gdown.download(prefix+file_id, \"Chest-CT-Scan-data.zip\")"
   ]
  }
 ],
 "metadata": {
  "kernelspec": {
   "display_name": "cancer",
   "language": "python",
   "name": "python3"
  },
  "language_info": {
   "codemirror_mode": {
    "name": "ipython",
    "version": 3
   },
   "file_extension": ".py",
   "mimetype": "text/x-python",
   "name": "python",
   "nbconvert_exporter": "python",
   "pygments_lexer": "ipython3",
   "version": "3.11.13"
  }
 },
 "nbformat": 4,
 "nbformat_minor": 5
}
